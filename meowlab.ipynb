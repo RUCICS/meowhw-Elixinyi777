{
 "cells": [
  {
   "cell_type": "markdown",
   "id": "c6175159",
   "metadata": {},
   "source": [
    "# MeowLab\n",
    "\n",
    "> cat可能是你最常用的命令行工具之一，但是可能很少有人会关注cat的性能问题。\n",
    "> \n",
    "> 但实际上，cat可能比你想的更加高效。在这个lab中，我们会一起来探索cat如此高效的秘密。"
   ]
  },
  {
   "cell_type": "markdown",
   "id": "ef876965",
   "metadata": {},
   "source": [
    "## 什么是cat\n",
    "\n",
    "对于大部分同学来说，这个问题有些太trivial了。但是以防万一，还是在这里介绍一下，cat是一个GNU coreutils中的一个程序，它的作用是连接(con**cat**enate)一系列文件，并将其输出到标准输出流(stdout)中。\n",
    "\n",
    "> 如果你愿意去找，你会发现这个lab中所有的代码都可以在GNU coreutils中找到，或者你用某个大模型，它可能也能写得不错。\n",
    "> 但是，除了写代码以外，这个lab中也会包含一些分析和讨论。因此即使你选择直接去抄GNU coreutils中的代码，也不要直接不加思考的复制粘贴。"
   ]
  },
  {
   "cell_type": "markdown",
   "id": "be33179e",
   "metadata": {},
   "source": [
    "## 环境要求\n",
    "\n",
    "* 操作系统：Linux（任何包含GNU coreutils的发行版）\n",
    "* 编译器：本lab允许使用C/C++或者Rust，选择你喜欢的任何编译器即可。\n",
    "* Python3.x：本lab一些地方需要你画图，推荐你使用matplotlib。另外，我们使用一个简单的脚本来生成测试文件。"
   ]
  },
  {
   "cell_type": "markdown",
   "id": "c6d3e510",
   "metadata": {},
   "source": [
    "## 在开始之前\n",
    "\n",
    "这个项目的所有代码需要你自己动手来写，我们只提供了一个用于生成测试文件的脚本。\n",
    "\n",
    "为了展示比较明显的测试效果，我们会生成一个2GB的测试文件，请确保你的磁盘拥有足够的空间。你可以运行下面这个单元格来查看你的电脑是否有足够的空间。这里我们使用了`df`命令，这个命令的作用是查看某个文件系统所在的磁盘的使用量。"
   ]
  },
  {
   "cell_type": "code",
   "execution_count": 1,
   "id": "14021422",
   "metadata": {},
   "outputs": [
    {
     "name": "stdout",
     "output_type": "stream",
     "text": [
      "Filesystem      Size  Used Avail Use% Mounted on\n",
      "/dev/sdd       1007G  4.3G  952G   1% /\n"
     ]
    },
    {
     "name": "stderr",
     "output_type": "stream",
     "text": [
      "-bash: line 10: bc: command not found\n"
     ]
    },
    {
     "name": "stdout",
     "output_type": "stream",
     "text": [
      "Disk space is sufficient: 952G\n"
     ]
    }
   ],
   "source": [
    "%%bash\n",
    "df -h /\n",
    "\n",
    "avail=$(df -h / | awk 'NR==2 {print $4}' | grep -o '[0-9.]*')\n",
    "unit=$(df -h / | awk 'NR==2 {print $4}' | grep -o '[a-zA-Z]*')\n",
    "if [[ \"$unit\" == \"M\" || \"$unit\" == \"K\" ]]; then\n",
    "    echo \"Disk space is low: $avail$unit\"\n",
    "elif [[ \"$unit\" == \"T\" ]]; then\n",
    "    echo \"Disk space is sufficient: $avail$unit\"\n",
    "elif [[ \"$unit\" == \"G\" ]]; then\n",
    "    if (( $(echo \"$avail < 10\" | bc -l) )); then\n",
    "        echo \"Disk space is low: $avail$unit\"\n",
    "    else\n",
    "        echo \"Disk space is sufficient: $avail$unit\"\n",
    "    fi\n",
    "else\n",
    "    echo \"Unknown unit: $unit\"\n",
    "fi\n"
   ]
  },
  {
   "cell_type": "markdown",
   "id": "64cc6804",
   "metadata": {},
   "source": [
    "你可以使用我们提供的python脚本来生成测试文件，运行下面的单元格。测试文件的生成可能会花费一定的时间。"
   ]
  },
  {
   "cell_type": "code",
   "execution_count": 1,
   "id": "8ead0359",
   "metadata": {},
   "outputs": [],
   "source": [
    "import random\n",
    "\n",
    "MB = 1024 * 1024\n",
    "\n",
    "# A static seed for reproducibility\n",
    "random.seed(42)\n",
    "\n",
    "with open(\"test.txt\", \"wb\") as f:\n",
    "    for _ in range(2048):\n",
    "        f.write(random.randbytes(1 * MB)) # 1MB of random data"
   ]
  },
  {
   "cell_type": "markdown",
   "id": "a0017028",
   "metadata": {},
   "source": [
    "当前文件夹下面会出现一个大小为2GB的文件`test.txt`。你可以运行下面的单元格来验证。"
   ]
  },
  {
   "cell_type": "code",
   "execution_count": 2,
   "id": "a4bd4bd0",
   "metadata": {},
   "outputs": [
    {
     "name": "stdout",
     "output_type": "stream",
     "text": [
      "-rw-r--r-- 1 lixinyi2005 lixinyi2005 2.0G Jun 19 15:25 test.txt\n"
     ]
    }
   ],
   "source": [
    "%%bash\n",
    "ls -lh test.txt"
   ]
  },
  {
   "cell_type": "markdown",
   "id": "55fbac6a",
   "metadata": {},
   "source": [
    "最后，我们的lab会需要使用`hyperfine`来测量程序的运行时间。我们推荐你使用`cargo`进行安装。你可以从[Rust官网](https://www.rust-lang.org/zh-CN/learn/get-started)找到安装脚本。如果你的电脑已经安装好了`cargo`，你可以运行下面的单元格来安装`hyperfine`。"
   ]
  },
  {
   "cell_type": "code",
   "execution_count": 3,
   "id": "77f0165a",
   "metadata": {},
   "outputs": [
    {
     "name": "stderr",
     "output_type": "stream",
     "text": [
      "    Updating crates.io index\n",
      "error: cannot install package `hyperfine 1.19.0`, it requires rustc 1.76.0 or newer, while the currently active rustc version is 1.75.0\n",
      "`hyperfine 1.18.0` supports rustc 1.70.0\n"
     ]
    },
    {
     "ename": "CalledProcessError",
     "evalue": "Command 'b'cargo install hyperfine\\n'' returned non-zero exit status 101.",
     "output_type": "error",
     "traceback": [
      "\u001b[1;31m---------------------------------------------------------------------------\u001b[0m",
      "\u001b[1;31mCalledProcessError\u001b[0m                        Traceback (most recent call last)",
      "\u001b[1;32mUbuntu\\home\\lixinyi2005\\meowhw-Elixinyi777\\meowlab.ipynb 单元格 11\u001b[0m line \u001b[0;36m1\n\u001b[1;32m----> <a href='vscode-notebook-cell://wsl.localhost/Ubuntu/home/lixinyi2005/meowhw-Elixinyi777/meowlab.ipynb#X13sZmlsZQ%3D%3D?line=0'>1</a>\u001b[0m get_ipython()\u001b[39m.\u001b[39mrun_cell_magic(\u001b[39m'\u001b[39m\u001b[39mbash\u001b[39m\u001b[39m'\u001b[39m, \u001b[39m'\u001b[39m\u001b[39m'\u001b[39m, \u001b[39m'\u001b[39m\u001b[39mcargo install hyperfine\u001b[39m\u001b[39m\\n\u001b[39;00m\u001b[39m'\u001b[39m)\n",
      "File \u001b[1;32me:\\Anacon\\Lib\\site-packages\\IPython\\core\\interactiveshell.py:2541\u001b[0m, in \u001b[0;36mInteractiveShell.run_cell_magic\u001b[1;34m(self, magic_name, line, cell)\u001b[0m\n\u001b[0;32m   2539\u001b[0m \u001b[39mwith\u001b[39;00m \u001b[39mself\u001b[39m\u001b[39m.\u001b[39mbuiltin_trap:\n\u001b[0;32m   2540\u001b[0m     args \u001b[39m=\u001b[39m (magic_arg_s, cell)\n\u001b[1;32m-> 2541\u001b[0m     result \u001b[39m=\u001b[39m fn(\u001b[39m*\u001b[39margs, \u001b[39m*\u001b[39m\u001b[39m*\u001b[39mkwargs)\n\u001b[0;32m   2543\u001b[0m \u001b[39m# The code below prevents the output from being displayed\u001b[39;00m\n\u001b[0;32m   2544\u001b[0m \u001b[39m# when using magics with decorator @output_can_be_silenced\u001b[39;00m\n\u001b[0;32m   2545\u001b[0m \u001b[39m# when the last Python token in the expression is a ';'.\u001b[39;00m\n\u001b[0;32m   2546\u001b[0m \u001b[39mif\u001b[39;00m \u001b[39mgetattr\u001b[39m(fn, magic\u001b[39m.\u001b[39mMAGIC_OUTPUT_CAN_BE_SILENCED, \u001b[39mFalse\u001b[39;00m):\n",
      "File \u001b[1;32me:\\Anacon\\Lib\\site-packages\\IPython\\core\\magics\\script.py:155\u001b[0m, in \u001b[0;36mScriptMagics._make_script_magic.<locals>.named_script_magic\u001b[1;34m(line, cell)\u001b[0m\n\u001b[0;32m    153\u001b[0m \u001b[39melse\u001b[39;00m:\n\u001b[0;32m    154\u001b[0m     line \u001b[39m=\u001b[39m script\n\u001b[1;32m--> 155\u001b[0m \u001b[39mreturn\u001b[39;00m \u001b[39mself\u001b[39m\u001b[39m.\u001b[39mshebang(line, cell)\n",
      "File \u001b[1;32me:\\Anacon\\Lib\\site-packages\\IPython\\core\\magics\\script.py:315\u001b[0m, in \u001b[0;36mScriptMagics.shebang\u001b[1;34m(self, line, cell)\u001b[0m\n\u001b[0;32m    310\u001b[0m \u001b[39mif\u001b[39;00m args\u001b[39m.\u001b[39mraise_error \u001b[39mand\u001b[39;00m p\u001b[39m.\u001b[39mreturncode \u001b[39m!=\u001b[39m \u001b[39m0\u001b[39m:\n\u001b[0;32m    311\u001b[0m     \u001b[39m# If we get here and p.returncode is still None, we must have\u001b[39;00m\n\u001b[0;32m    312\u001b[0m     \u001b[39m# killed it but not yet seen its return code. We don't wait for it,\u001b[39;00m\n\u001b[0;32m    313\u001b[0m     \u001b[39m# in case it's stuck in uninterruptible sleep. -9 = SIGKILL\u001b[39;00m\n\u001b[0;32m    314\u001b[0m     rc \u001b[39m=\u001b[39m p\u001b[39m.\u001b[39mreturncode \u001b[39mor\u001b[39;00m \u001b[39m-\u001b[39m\u001b[39m9\u001b[39m\n\u001b[1;32m--> 315\u001b[0m     \u001b[39mraise\u001b[39;00m CalledProcessError(rc, cell)\n",
      "\u001b[1;31mCalledProcessError\u001b[0m: Command 'b'cargo install hyperfine\\n'' returned non-zero exit status 101."
     ]
    }
   ],
   "source": [
    "%%bash\n",
    "cargo install hyperfine"
   ]
  },
  {
   "cell_type": "markdown",
   "id": "45cefa6f",
   "metadata": {},
   "source": [
    "有了以上的准备工作，我们终于可以开始我们的探索之旅了。"
   ]
  },
  {
   "cell_type": "markdown",
   "id": "9c1afa63",
   "metadata": {},
   "source": [
    "## 任务0: 测量cat的效率\n",
    "\n",
    "你要做的第一个任务十分简单。学习一下如何使用`hyperfine`，并且使用它来测试GNU coreutils中的cat输出我们生成的测试文件`test.txt`的时间。运行下面的单元格来运行测试。"
   ]
  },
  {
   "cell_type": "code",
   "execution_count": 4,
   "id": "4af9a82b",
   "metadata": {},
   "outputs": [
    {
     "name": "stdout",
     "output_type": "stream",
     "text": [
      "Benchmark 1: cat test.txt\n",
      "  Time (mean ± σ):     218.9 ms ±  14.0 ms    [User: 4.2 ms, System: 214.1 ms]\n",
      "  Range (min … max):   202.4 ms … 249.0 ms    13 runs\n",
      " \n"
     ]
    }
   ],
   "source": [
    "%%bash\n",
    "hyperfine --warmup 3 'cat test.txt'"
   ]
  },
  {
   "cell_type": "markdown",
   "id": "cd94fe5a",
   "metadata": {},
   "source": [
    "## 任务1: 写一个最朴素的cat\n",
    "\n",
    "我们现在使用`hyperfine`测量了GNU coreutils中的`cat`的运行效率，但是对于这个运行时间，我们可能并没有什么概念。现在我们将会写一个最朴素的`cat`程序来作为baseline。这个程序需要满足一下要求：\n",
    "1. 把你的源代码命名为`mycat1.c`或者`mycat1.rs`，并且可执行的二进制文件命名为`mycat1`。\n",
    "2. 你的程序接受且只接受一个命令行参数，这个参数是你要读取的文件。\n",
    "3. 你的程序直接使用`read`和`write`系统调用，每次读取并输出一个字符，不使用任何缓冲区。\n",
    "4. 使用`hpyerfine`测量`mycat1`和`cat`运行时间（`mycat1`的运行时间可能会非常长）\n",
    "5. 虽然这是一个很简单的程序，但是请仍然保持系统编程的规范。请在你的代码中进行进行所有必要的错误处理。\n",
    "\n",
    "这个任务不需要在文档中包含任何内容。"
   ]
  },
  {
   "cell_type": "code",
   "execution_count": 12,
   "id": "124223b9",
   "metadata": {},
   "outputs": [
    {
     "name": "stderr",
     "output_type": "stream",
     "text": [
      "\u0000/e\u0001c \u0000l\u0000o\u0000c\u0000a\u0000l\u0000h\u0000o\u0000s\u0000t\u0000 \u0000�N\u0006t\u00020\u0000t\u0000 \u0000�N\u0006tM�n\f�FO*g\\��P0R \u0000W\u0000S\u0000L\u0000\u00020N\u0000A\u0000T\u0000 \u0000!j\u000f_\u000bN�v \u0000W\u0000S\u0000L\u0000 \u0000\n"
     ]
    },
    {
     "name": "stdout",
     "output_type": "stream",
     "text": [
      "Benchmark 1: ./target/mycat1 test.txt\n",
      "  Time (mean ± σ):     564.832 s ± 22.399 s    [User: 177.110 s, System: 387.715 s]\n",
      "  Range (min … max):   548.993 s … 580.671 s    2 runs\n",
      " \n"
     ]
    },
    {
     "name": "stderr",
     "output_type": "stream",
     "text": [
      "\u0000"
     ]
    }
   ],
   "source": [
    "%%bash\n",
    "hyperfine --warmup 3 --runs 2 './target/mycat1 test.txt'"
   ]
  },
  {
   "cell_type": "markdown",
   "id": "7105038c",
   "metadata": {},
   "source": [
    "## 任务2: 带有缓冲区的cat\n",
    "\n",
    "如果你正确完成了上面的任务，你会发现，`mycat1`的性能和系统中的`cat`的性能相差甚远。但是经过了ics课程的学习，你肯定已经想到了至少一个解决方案——使用缓冲区。缓冲区可以有效减少反复进行系统调用的性能消耗。但是，我们要面临的第二个问题是：缓冲区的大小应该如何设置呢？我们接下来将一步一步地探索这个问题。\n",
    "\n",
    "我们之前肯定也已经讲过不少涉及IO缓冲区的程序了，它们的缓冲区大小都被设置为多少呢？我相信1024, 4096, 8192一定是比较常见的几个数字。经过ics的学习，我相信你们肯定能说出原因了。那么，这个任务，我们将根据这个原理优化我们的`mycat1`。你至少需要完成下面要求：\n",
    "1. 复制你上一个任务的源代码在上面做修改，并把源代码命名为`mycat2.c`/`mycat2.rs`，可执行二进制文件命名为`mycat2`。\n",
    "2. 写一个`io_blocksize`函数用于确定你的缓冲区的大小，在这个任务中，你可以将缓冲区设置成你当前系统中一个内存页的大小。（注意：你不能假设所有系统中内存页的大小都是4K，请你使用一个系统调用或者标准库中的函数来获取内存页的大小，而不要使用一个固定值。不过允许你使用一个固定值，如果获取内存页发生错误，但是这不应该是一个常见的情况）。\n",
    "3. 使用标准库提供的函数动态分配用于缓冲区的内存。\n",
    "4. 使用`hpyerfine`测量`mycat2`的运行时间\n",
    "5. 请保持系统编程的基本规范。\n",
    "\n",
    "这个任务不需要在文档中包含任何内容。"
   ]
  },
  {
   "cell_type": "code",
   "execution_count": 13,
   "id": "ac23d60f",
   "metadata": {},
   "outputs": [
    {
     "name": "stdout",
     "output_type": "stream",
     "text": [
      "Benchmark 1: ./target/mycat2 test.txt\n",
      "  Time (mean ± σ):     348.0 ms ±  20.6 ms    [User: 45.1 ms, System: 302.9 ms]\n",
      "  Range (min … max):   324.7 ms … 383.5 ms    10 runs\n",
      " \n"
     ]
    }
   ],
   "source": [
    "%%bash\n",
    "hyperfine --warmup 3 './target/mycat2 test.txt'"
   ]
  },
  {
   "cell_type": "markdown",
   "id": "c5630499",
   "metadata": {},
   "source": [
    "## 任务3: 缓冲区对齐的cat\n",
    "\n",
    "如果你正确完成了上面这个任务，你会发现，添加了缓冲区的`mycat2`性能提升十分显著。但是我们还可以进一步优化。实际上只是添加了缓冲区并且设置缓冲区的大小为内存页的整数倍并不是没有什么太多的意义，这样的设置只是为了这个一个任务做铺垫的。在这个任务中，我们将尝试将我们的缓冲区对齐到系统的内存页。至于为什么要这么做，请大家在自己的文档中分析一下。你至少需要完成以下要求：\n",
    "1. 复制你上一个任务的源代码在上面做修改，并把源代码命名为`mycat3.c`/`mycat3.rs`，可执行二进制文件命名为`mycat3`。\n",
    "2. 写两个函数`char* align_alloc(size_t size)`和`void align_free(void* ptr)`，它们的作用分别是分配一段内存，长度不小于`size`并且返回一个对齐到内存页起始的指针`ptr`，以及给出一个先前从`align_alloc`返回的指针并释放之前分配的内存。\n",
    "3. 利用这两个函数修改你的代码，缓冲区的大小仍然设置成一个内存页的大小。\n",
    "4. 使用`hpyerfine`测量`mycat3`的运行时间\n",
    "5. 请保持系统编程的基本规范。\n",
    "\n",
    "这个任务，你需要在文档中回答以下问题：\n",
    "1. 为什么将缓冲区对齐到系统的内存可能提高性能？你的实验结果支持这个猜想吗？为什么？\n",
    "2. 为什么我们直接使用`malloc`函数分配的内存不能对齐到内存页，即使我们分配的内存大小已经是内存页大小的整数倍了。\n",
    "3. 你是怎么在不知道原始的malloc返回的指针的情况下正确释放内存的？"
   ]
  },
  {
   "cell_type": "code",
   "execution_count": 14,
   "id": "cc9a08fd",
   "metadata": {},
   "outputs": [
    {
     "name": "stdout",
     "output_type": "stream",
     "text": [
      "Benchmark 1: ./target/mycat3 test.txt\n",
      "  Time (mean ± σ):     346.1 ms ±  17.1 ms    [User: 43.5 ms, System: 302.5 ms]\n",
      "  Range (min … max):   319.9 ms … 372.1 ms    10 runs\n",
      " \n"
     ]
    }
   ],
   "source": [
    "%%bash\n",
    "hyperfine --warmup 3 './target/mycat3 test.txt'"
   ]
  },
  {
   "cell_type": "markdown",
   "id": "cc9e0e46",
   "metadata": {},
   "source": [
    "1. 缓冲区对齐内存页大小可以提高性能可能是因为这样可以提高访问cache的命中率，从而提高性能；实验结果：`mycat3` 的时间(346.1 ms ±  17.1 ms)比 `mycat2` 的时间(348.0 ms ±  20.6 ms)快约2ms，证明确实略微提高了性能\n",
    "\n",
    "\n",
    "2. malloc分配的地址只能保证满足系统对齐，比如64位下保证16字节对齐，但无法保证页对齐，即使分配的内存是页大小的整数倍，malloc分配的地址也可能是跨越页的。\n",
    "\n",
    "3. 在实现的`align_alloc`函数中，malloc分配 `size + padding + metadata` 的空间，返回对齐后的指针，在对齐位置前面 `sizeof(void*)` 字节的位置，保存了原始malloc返回的指针，在 `align_free` 时，先从对齐指针向前找到malloc的原始指针，传给free释放内存"
   ]
  },
  {
   "cell_type": "markdown",
   "id": "45070667",
   "metadata": {},
   "source": [
    "## 任务4: 设置缓冲区大小为文件系统块大小的整数倍的cat\n",
    "\n",
    "由于`cat`是涉及文件操作的，所以我们自然不能离开磁盘操作。我们在课内已经学到过，磁盘操作的基本单位是块。并且因为我们操作磁盘是经过了操作系统的一层抽象的，操作系统的文件系统也定义了一个操作文件的基本单位块，这个块的大小和磁盘的块的大小相关，但不总是相同。因此我们操作文件的时候实际接触到的块大小是文件系统的块大小。如果我们每次读取和写入文件的时候都按照文件系统的块大小来进行，也能提升性能。在这个任务中，你至少需要完成以下要求：\n",
    "1. 复制你上一个任务的源代码在上面做修改，并把源代码命名为`mycat4.c`/`mycat4.rs`，可执行二进制文件命名为`mycat4`。\n",
    "2. 修改你的函数`io_blocksize`，让你的缓冲区大小既考虑到内存页大小也考虑到文件系统的块大小。\n",
    "3. 使用`hyperfine`测量`mycat4`的运行时间。\n",
    "4. 保持系统编程的基本规范。\n",
    "\n",
    "> 在完成这项任务的时候你需要注意以下几点：\n",
    "> 1. 文件系统中的每个文件，块大小不总是相同的。\n",
    "> 2. 有的文件系统可能会给出虚假的块大小，这种虚假的文件块大小可能根本不是2的整数次幂。\n",
    "\n",
    "这个任务，你需要在文档中回答以下问题：\n",
    "1. 为什么在设置缓冲区大小的时候需要考虑到文件系统块的大小的问题？\n",
    "2. 对于上面提到的两个注意事项你是怎么解决的？"
   ]
  },
  {
   "cell_type": "code",
   "execution_count": 15,
   "id": "b1c29621",
   "metadata": {},
   "outputs": [
    {
     "name": "stderr",
     "output_type": "stream",
     "text": [
      "\u0000/e\u0001c \u0000l\u0000o\u0000c\u0000a\u0000l\u0000h\u0000o\u0000s\u0000t\u0000 \u0000�N\u0006t\u00020\u0000t\u0000 \u0000�N\u0006tM�n\f�FO*g\\��P0R \u0000W\u0000S\u0000L\u0000\u00020N\u0000A\u0000T\u0000 \u0000!j\u000f_\u000bN�v \u0000W\u0000S\u0000L\u0000 \u0000\n"
     ]
    },
    {
     "name": "stdout",
     "output_type": "stream",
     "text": [
      "Benchmark 1: ./target/mycat4 test.txt\n",
      "  Time (mean ± σ):     327.2 ms ±  26.1 ms    [User: 46.9 ms, System: 280.4 ms]\n",
      "  Range (min … max):   279.2 ms … 361.4 ms    10 runs\n",
      " \n"
     ]
    },
    {
     "name": "stderr",
     "output_type": "stream",
     "text": [
      "\u0000"
     ]
    }
   ],
   "source": [
    "%%bash\n",
    "hyperfine --warmup 3 './target/mycat4 test.txt'"
   ]
  },
  {
   "cell_type": "markdown",
   "id": "6eee5870",
   "metadata": {},
   "source": [
    "1. 做read和write时的基本单位是文件的块大小，如果缓冲区大小不针对块大小进行对齐，那么在每次I/O的时候可能会浪费掉一次系统调用的资源。如果缓冲区对文件系统的块大小进行对齐，可以使I/O的吞吐量最大化，提高性能\n",
    "\n",
    "2. - 若每个文件块大小不相同，则以当前打开的文件的块大小为标准设置\n",
    "    - 如果获取到的文件的块的大小不是2的整数次幂，就用内存页的大小代替文件块的大小"
   ]
  },
  {
   "cell_type": "markdown",
   "id": "442bbd60",
   "metadata": {},
   "source": [
    "## 任务5: 考虑系统调用开销情况下的cat\n",
    "\n",
    "如果你正确完成了上面的任务，那么现在你的`cat`已经可以综合考虑内存页大小，内存页对齐和文件系统块大小的因素来设置缓冲区大小了。但是我们会发现，我们自己的`cat`性能仍然不如我们系统中的`cat`。并且如果你尝试过再进一步增大缓冲区的大小，你的`cat`性能还能更高。这是因为我们目前设置的缓冲区大小还不足以掩盖系统调用带来的开销。那么，我们的缓冲区究竟应该设置到什么大小才够呢？其实这个问题，我们仅仅使用理论分析是无法给出答案的，因为答案受到机器的硬件条件，操作系统的涉及等多重不确定因素的影响。但是，我们可以使用实验来解答这个问题。最后，我们还需要做出假设，不考虑上一个任务的注意事项1，也就是我们假设我们文件系统的大部分文件的块大小都一致（你可以使用我们的测试文件的块大小）。因此，设我们在之前的任务中设置的缓冲区大小是buf_size，我们需要通过实验找到一个倍数A，满足以下条件：\n",
    "1. 当缓冲区大小小于A * buf_size的时候，文件的读写速度显著减小\n",
    "2. 当缓冲区大小大于A * buf_size的时候，文件的读写速度并不显著提升\n",
    "最终，我们就可以直接设置我们的`cat`中的缓冲区大小设置成buf_size的固定倍率。在这个任务中，你只少需要完成以下要求：\n",
    "1. 编写一个实验脚本，尽量排除其他因素的影响，测量只在系统调用开销的影响下，你的系统最合适的缓冲区大小。并且给出这个大小下你的系统的读写速率。\n",
    "2. 复制你上一个任务的源代码在上面做修改，并把源代码命名为`mycat5.c`/`mycat5.rs`，可执行二进制文件命名为`mycat5`。\n",
    "3. 利用上面的实验结果，修改你的函数`io_blocksize`。\n",
    "4. 使用`hyperfine`测量`mycat5`的运行时间。\n",
    "5. 保持系统编程的基本规范。\n",
    "\n",
    "> 提示：\n",
    "> 1. `dd`命令可以用于复制一个文件(也就是读取并写入)，你可以使用命令行参数设置它的缓冲区大小，并且程序终止的时候可以报告平均文件读写速度。\n",
    "> 2. Linux系统中存在`/dev`文件系统，这个目录下有很多特殊文件，其中有一些对你来说可能有用。`/dev/null`，你向这个文件写入的内容并不真正写入磁盘，并且不会对你的系统造成任何影响。`/dev/zero`，如果你尝试读取这个文件你会得到源源不断的`\\0x0`，这个文件也并不真正的从磁盘中读取。\n",
    "\n",
    "这个任务，你需要在文档中包括以下内容：\n",
    "1. 解释一下你的实验脚本是怎么设计的。你应该尝试了多种倍率，请将它们的读写速率画成图表包含在文档中。"
   ]
  },
  {
   "cell_type": "code",
   "execution_count": 56,
   "id": "ddf50445",
   "metadata": {},
   "outputs": [
    {
     "name": "stderr",
     "output_type": "stream",
     "text": [
      "\u0000/e\u0001c \u0000l\u0000o\u0000c\u0000a\u0000l\u0000h\u0000o\u0000s\u0000t\u0000 \u0000�N\u0006t\u00020\u0000t\u0000 \u0000�N\u0006tM�n\f�FO*g\\��P0R \u0000W\u0000S\u0000L\u0000\u00020N\u0000A\u0000T\u0000 \u0000!j\u000f_\u000bN�v \u0000W\u0000S\u0000L\u0000 \u0000\n"
     ]
    },
    {
     "name": "stdout",
     "output_type": "stream",
     "text": [
      "4096\n",
      "=== MULTIPLIER=1 | Buffer Size = 4096 bytes ===\n",
      "--- dd raw output ---\n",
      "16384+0 records in\n",
      "16384+0 records out\n",
      "67108864 bytes (67 MB, 64 MiB) copied, 0.00378116 s, 17.7 GB/s\n",
      "✅ SPEED: 18124.8 MB/s\n",
      "=== MULTIPLIER=2 | Buffer Size = 8192 bytes ===\n",
      "--- dd raw output ---\n",
      "16384+0 records in\n",
      "16384+0 records out\n",
      "134217728 bytes (134 MB, 128 MiB) copied, 0.00531832 s, 25.2 GB/s\n",
      "✅ SPEED: 25804.8 MB/s\n",
      "=== MULTIPLIER=3 | Buffer Size = 12288 bytes ===\n",
      "--- dd raw output ---\n",
      "16384+0 records in\n",
      "16384+0 records out\n",
      "201326592 bytes (201 MB, 192 MiB) copied, 0.00583042 s, 34.5 GB/s\n",
      "✅ SPEED: 35328.0 MB/s\n",
      "=== MULTIPLIER=4 | Buffer Size = 16384 bytes ===\n",
      "--- dd raw output ---\n",
      "16384+0 records in\n",
      "16384+0 records out\n",
      "268435456 bytes (268 MB, 256 MiB) copied, 0.00647187 s, 41.5 GB/s\n",
      "✅ SPEED: 42496.0 MB/s\n",
      "=== MULTIPLIER=5 | Buffer Size = 20480 bytes ===\n",
      "--- dd raw output ---\n",
      "16384+0 records in\n",
      "16384+0 records out\n",
      "335544320 bytes (336 MB, 320 MiB) copied, 0.00797992 s, 42.0 GB/s\n",
      "✅ SPEED: 43008.0 MB/s\n",
      "=== MULTIPLIER=6 | Buffer Size = 24576 bytes ===\n",
      "--- dd raw output ---\n",
      "16384+0 records in\n",
      "16384+0 records out\n",
      "402653184 bytes (403 MB, 384 MiB) copied, 0.00772923 s, 52.1 GB/s\n",
      "✅ SPEED: 53350.4 MB/s\n",
      "=== MULTIPLIER=7 | Buffer Size = 28672 bytes ===\n",
      "--- dd raw output ---\n",
      "16384+0 records in\n",
      "16384+0 records out\n",
      "469762048 bytes (470 MB, 448 MiB) copied, 0.00772295 s, 60.8 GB/s\n",
      "✅ SPEED: 62259.2 MB/s\n",
      "=== MULTIPLIER=8 | Buffer Size = 32768 bytes ===\n",
      "--- dd raw output ---\n",
      "16384+0 records in\n",
      "16384+0 records out\n",
      "536870912 bytes (537 MB, 512 MiB) copied, 0.0081952 s, 65.5 GB/s\n",
      "✅ SPEED: 67072.0 MB/s\n",
      "=== MULTIPLIER=9 | Buffer Size = 36864 bytes ===\n",
      "--- dd raw output ---\n",
      "16384+0 records in\n",
      "16384+0 records out\n",
      "603979776 bytes (604 MB, 576 MiB) copied, 0.00860863 s, 70.2 GB/s\n",
      "✅ SPEED: 71884.8 MB/s\n",
      "=== MULTIPLIER=10 | Buffer Size = 40960 bytes ===\n",
      "--- dd raw output ---\n",
      "16384+0 records in\n",
      "16384+0 records out\n",
      "671088640 bytes (671 MB, 640 MiB) copied, 0.00953796 s, 70.4 GB/s\n",
      "✅ SPEED: 72089.6 MB/s\n",
      "=== MULTIPLIER=11 | Buffer Size = 45056 bytes ===\n",
      "--- dd raw output ---\n",
      "16384+0 records in\n",
      "16384+0 records out\n",
      "738197504 bytes (738 MB, 704 MiB) copied, 0.00985281 s, 74.9 GB/s\n",
      "✅ SPEED: 76697.6 MB/s\n",
      "=== MULTIPLIER=12 | Buffer Size = 49152 bytes ===\n",
      "--- dd raw output ---\n",
      "16384+0 records in\n",
      "16384+0 records out\n",
      "805306368 bytes (805 MB, 768 MiB) copied, 0.0125264 s, 64.3 GB/s\n",
      "✅ SPEED: 65843.2 MB/s\n",
      "=== MULTIPLIER=13 | Buffer Size = 53248 bytes ===\n",
      "--- dd raw output ---\n",
      "16384+0 records in\n",
      "16384+0 records out\n",
      "872415232 bytes (872 MB, 832 MiB) copied, 0.0160191 s, 54.5 GB/s\n",
      "✅ SPEED: 55808.0 MB/s\n",
      "=== MULTIPLIER=14 | Buffer Size = 57344 bytes ===\n",
      "--- dd raw output ---\n",
      "16384+0 records in\n",
      "16384+0 records out\n",
      "939524096 bytes (940 MB, 896 MiB) copied, 0.0171334 s, 54.8 GB/s\n",
      "✅ SPEED: 56115.2 MB/s\n",
      "=== MULTIPLIER=15 | Buffer Size = 61440 bytes ===\n",
      "--- dd raw output ---\n",
      "16384+0 records in\n",
      "16384+0 records out\n",
      "1006632960 bytes (1.0 GB, 960 MiB) copied, 0.0183879 s, 54.7 GB/s\n",
      "✅ SPEED: 56012.8 MB/s\n",
      "=== MULTIPLIER=16 | Buffer Size = 65536 bytes ===\n",
      "--- dd raw output ---\n",
      "16384+0 records in\n",
      "16384+0 records out\n",
      "1073741824 bytes (1.1 GB, 1.0 GiB) copied, 0.01931 s, 55.6 GB/s\n",
      "✅ SPEED: 56934.4 MB/s\n",
      "=== MULTIPLIER=17 | Buffer Size = 69632 bytes ===\n",
      "--- dd raw output ---\n",
      "16384+0 records in\n",
      "16384+0 records out\n",
      "1140850688 bytes (1.1 GB, 1.1 GiB) copied, 0.0222345 s, 51.3 GB/s\n",
      "✅ SPEED: 52531.2 MB/s\n",
      "=== MULTIPLIER=18 | Buffer Size = 73728 bytes ===\n",
      "--- dd raw output ---\n",
      "16384+0 records in\n",
      "16384+0 records out\n",
      "1207959552 bytes (1.2 GB, 1.1 GiB) copied, 0.0215061 s, 56.2 GB/s\n",
      "✅ SPEED: 57548.8 MB/s\n",
      "=== MULTIPLIER=19 | Buffer Size = 77824 bytes ===\n",
      "--- dd raw output ---\n",
      "16384+0 records in\n",
      "16384+0 records out\n",
      "1275068416 bytes (1.3 GB, 1.2 GiB) copied, 0.022243 s, 57.3 GB/s\n",
      "✅ SPEED: 58675.2 MB/s\n",
      "=== MULTIPLIER=20 | Buffer Size = 81920 bytes ===\n",
      "--- dd raw output ---\n",
      "16384+0 records in\n",
      "16384+0 records out\n",
      "1342177280 bytes (1.3 GB, 1.2 GiB) copied, 0.0226481 s, 59.3 GB/s\n",
      "✅ SPEED: 60723.2 MB/s\n",
      "=== MULTIPLIER=21 | Buffer Size = 86016 bytes ===\n",
      "--- dd raw output ---\n",
      "16384+0 records in\n",
      "16384+0 records out\n",
      "1409286144 bytes (1.4 GB, 1.3 GiB) copied, 0.0241965 s, 58.2 GB/s\n",
      "✅ SPEED: 59596.8 MB/s\n",
      "=== MULTIPLIER=22 | Buffer Size = 90112 bytes ===\n",
      "--- dd raw output ---\n",
      "16384+0 records in\n",
      "16384+0 records out\n",
      "1476395008 bytes (1.5 GB, 1.4 GiB) copied, 0.0366077 s, 40.3 GB/s\n",
      "✅ SPEED: 41267.2 MB/s\n",
      "=== MULTIPLIER=23 | Buffer Size = 94208 bytes ===\n",
      "--- dd raw output ---\n",
      "16384+0 records in\n",
      "16384+0 records out\n",
      "1543503872 bytes (1.5 GB, 1.4 GiB) copied, 0.028749 s, 53.7 GB/s\n",
      "✅ SPEED: 54988.8 MB/s\n",
      "=== MULTIPLIER=24 | Buffer Size = 98304 bytes ===\n",
      "--- dd raw output ---\n",
      "16384+0 records in\n",
      "16384+0 records out\n",
      "1610612736 bytes (1.6 GB, 1.5 GiB) copied, 0.0282629 s, 57.0 GB/s\n",
      "✅ SPEED: 58368.0 MB/s\n",
      "=== MULTIPLIER=25 | Buffer Size = 102400 bytes ===\n",
      "--- dd raw output ---\n",
      "16384+0 records in\n",
      "16384+0 records out\n",
      "1677721600 bytes (1.7 GB, 1.6 GiB) copied, 0.029163 s, 57.5 GB/s\n",
      "✅ SPEED: 58880.0 MB/s\n",
      "=== MULTIPLIER=26 | Buffer Size = 106496 bytes ===\n",
      "--- dd raw output ---\n",
      "16384+0 records in\n",
      "16384+0 records out\n",
      "1744830464 bytes (1.7 GB, 1.6 GiB) copied, 0.0306262 s, 57.0 GB/s\n",
      "✅ SPEED: 58368.0 MB/s\n",
      "=== MULTIPLIER=27 | Buffer Size = 110592 bytes ===\n",
      "--- dd raw output ---\n",
      "16384+0 records in\n",
      "16384+0 records out\n",
      "1811939328 bytes (1.8 GB, 1.7 GiB) copied, 0.0306989 s, 59.0 GB/s\n",
      "✅ SPEED: 60416.0 MB/s\n",
      "=== MULTIPLIER=28 | Buffer Size = 114688 bytes ===\n",
      "--- dd raw output ---\n",
      "16384+0 records in\n",
      "16384+0 records out\n",
      "1879048192 bytes (1.9 GB, 1.8 GiB) copied, 0.0324224 s, 58.0 GB/s\n",
      "✅ SPEED: 59392.0 MB/s\n",
      "=== MULTIPLIER=29 | Buffer Size = 118784 bytes ===\n",
      "--- dd raw output ---\n",
      "16384+0 records in\n",
      "16384+0 records out\n",
      "1946157056 bytes (1.9 GB, 1.8 GiB) copied, 0.0328559 s, 59.2 GB/s\n",
      "✅ SPEED: 60620.8 MB/s\n",
      "=== MULTIPLIER=30 | Buffer Size = 122880 bytes ===\n",
      "--- dd raw output ---\n",
      "16384+0 records in\n",
      "16384+0 records out\n",
      "2013265920 bytes (2.0 GB, 1.9 GiB) copied, 0.03473 s, 58.0 GB/s\n",
      "✅ SPEED: 59392.0 MB/s\n",
      "=== MULTIPLIER=31 | Buffer Size = 126976 bytes ===\n",
      "--- dd raw output ---\n",
      "16384+0 records in\n",
      "16384+0 records out\n",
      "2080374784 bytes (2.1 GB, 1.9 GiB) copied, 0.0344407 s, 60.4 GB/s\n",
      "✅ SPEED: 61849.6 MB/s\n",
      "=== MULTIPLIER=32 | Buffer Size = 131072 bytes ===\n",
      "--- dd raw output ---\n",
      "16384+0 records in\n",
      "16384+0 records out\n",
      "2147483648 bytes (2.1 GB, 2.0 GiB) copied, 0.0365354 s, 58.8 GB/s\n",
      "✅ SPEED: 60211.2 MB/s\n",
      "=== MULTIPLIER=33 | Buffer Size = 135168 bytes ===\n",
      "--- dd raw output ---\n",
      "16384+0 records in\n",
      "16384+0 records out\n",
      "2214592512 bytes (2.2 GB, 2.1 GiB) copied, 0.0366004 s, 60.5 GB/s\n",
      "✅ SPEED: 61952.0 MB/s\n",
      "=== MULTIPLIER=34 | Buffer Size = 139264 bytes ===\n",
      "--- dd raw output ---\n",
      "16384+0 records in\n",
      "16384+0 records out\n",
      "2281701376 bytes (2.3 GB, 2.1 GiB) copied, 0.0396691 s, 57.5 GB/s\n",
      "✅ SPEED: 58880.0 MB/s\n",
      "=== MULTIPLIER=35 | Buffer Size = 143360 bytes ===\n",
      "--- dd raw output ---\n",
      "16384+0 records in\n",
      "16384+0 records out\n",
      "2348810240 bytes (2.3 GB, 2.2 GiB) copied, 0.0388424 s, 60.5 GB/s\n",
      "✅ SPEED: 61952.0 MB/s\n",
      "=== MULTIPLIER=36 | Buffer Size = 147456 bytes ===\n",
      "--- dd raw output ---\n",
      "16384+0 records in\n",
      "16384+0 records out\n",
      "2415919104 bytes (2.4 GB, 2.2 GiB) copied, 0.043697 s, 55.3 GB/s\n",
      "✅ SPEED: 56627.2 MB/s\n",
      "=== MULTIPLIER=37 | Buffer Size = 151552 bytes ===\n",
      "--- dd raw output ---\n",
      "16384+0 records in\n",
      "16384+0 records out\n",
      "2483027968 bytes (2.5 GB, 2.3 GiB) copied, 0.0585465 s, 42.4 GB/s\n",
      "✅ SPEED: 43417.6 MB/s\n",
      "=== MULTIPLIER=38 | Buffer Size = 155648 bytes ===\n",
      "--- dd raw output ---\n",
      "16384+0 records in\n",
      "16384+0 records out\n",
      "2550136832 bytes (2.6 GB, 2.4 GiB) copied, 0.0436896 s, 58.4 GB/s\n",
      "✅ SPEED: 59801.6 MB/s\n",
      "=== MULTIPLIER=39 | Buffer Size = 159744 bytes ===\n",
      "--- dd raw output ---\n",
      "16384+0 records in\n",
      "16384+0 records out\n",
      "2617245696 bytes (2.6 GB, 2.4 GiB) copied, 0.0432697 s, 60.5 GB/s\n",
      "✅ SPEED: 61952.0 MB/s\n",
      "=== MULTIPLIER=40 | Buffer Size = 163840 bytes ===\n",
      "--- dd raw output ---\n",
      "16384+0 records in\n",
      "16384+0 records out\n",
      "2684354560 bytes (2.7 GB, 2.5 GiB) copied, 0.0447005 s, 60.1 GB/s\n",
      "✅ SPEED: 61542.4 MB/s\n",
      "=== MULTIPLIER=41 | Buffer Size = 167936 bytes ===\n",
      "--- dd raw output ---\n",
      "16384+0 records in\n",
      "16384+0 records out\n",
      "2751463424 bytes (2.8 GB, 2.6 GiB) copied, 0.045797 s, 60.1 GB/s\n",
      "✅ SPEED: 61542.4 MB/s\n",
      "=== MULTIPLIER=42 | Buffer Size = 172032 bytes ===\n",
      "--- dd raw output ---\n",
      "16384+0 records in\n",
      "16384+0 records out\n",
      "2818572288 bytes (2.8 GB, 2.6 GiB) copied, 0.0467231 s, 60.3 GB/s\n",
      "✅ SPEED: 61747.2 MB/s\n",
      "=== MULTIPLIER=43 | Buffer Size = 176128 bytes ===\n",
      "--- dd raw output ---\n",
      "16384+0 records in\n",
      "16384+0 records out\n",
      "2885681152 bytes (2.9 GB, 2.7 GiB) copied, 0.0478225 s, 60.3 GB/s\n",
      "✅ SPEED: 61747.2 MB/s\n",
      "=== MULTIPLIER=44 | Buffer Size = 180224 bytes ===\n",
      "--- dd raw output ---\n",
      "16384+0 records in\n",
      "16384+0 records out\n",
      "2952790016 bytes (3.0 GB, 2.8 GiB) copied, 0.0484486 s, 60.9 GB/s\n",
      "✅ SPEED: 62361.6 MB/s\n",
      "=== MULTIPLIER=45 | Buffer Size = 184320 bytes ===\n",
      "--- dd raw output ---\n",
      "16384+0 records in\n",
      "16384+0 records out\n",
      "3019898880 bytes (3.0 GB, 2.8 GiB) copied, 0.0503409 s, 60.0 GB/s\n",
      "✅ SPEED: 61440.0 MB/s\n",
      "=== MULTIPLIER=46 | Buffer Size = 188416 bytes ===\n",
      "--- dd raw output ---\n",
      "16384+0 records in\n",
      "16384+0 records out\n",
      "3087007744 bytes (3.1 GB, 2.9 GiB) copied, 0.0495868 s, 62.3 GB/s\n",
      "✅ SPEED: 63795.2 MB/s\n",
      "=== MULTIPLIER=47 | Buffer Size = 192512 bytes ===\n",
      "--- dd raw output ---\n",
      "16384+0 records in\n",
      "16384+0 records out\n",
      "3154116608 bytes (3.2 GB, 2.9 GiB) copied, 0.0522768 s, 60.3 GB/s\n",
      "✅ SPEED: 61747.2 MB/s\n",
      "=== MULTIPLIER=48 | Buffer Size = 196608 bytes ===\n",
      "--- dd raw output ---\n",
      "16384+0 records in\n",
      "16384+0 records out\n",
      "3221225472 bytes (3.2 GB, 3.0 GiB) copied, 0.0515627 s, 62.5 GB/s\n",
      "✅ SPEED: 64000.0 MB/s\n",
      "=== MULTIPLIER=49 | Buffer Size = 200704 bytes ===\n",
      "--- dd raw output ---\n",
      "16384+0 records in\n",
      "16384+0 records out\n",
      "3288334336 bytes (3.3 GB, 3.1 GiB) copied, 0.0524331 s, 62.7 GB/s\n",
      "✅ SPEED: 64204.8 MB/s\n",
      "=== MULTIPLIER=50 | Buffer Size = 204800 bytes ===\n",
      "--- dd raw output ---\n",
      "16384+0 records in\n",
      "16384+0 records out\n",
      "3355443200 bytes (3.4 GB, 3.1 GiB) copied, 0.0545249 s, 61.5 GB/s\n",
      "✅ SPEED: 62976.0 MB/s\n",
      "=== MULTIPLIER=51 | Buffer Size = 208896 bytes ===\n",
      "--- dd raw output ---\n",
      "16384+0 records in\n",
      "16384+0 records out\n",
      "3422552064 bytes (3.4 GB, 3.2 GiB) copied, 0.0549122 s, 62.3 GB/s\n",
      "✅ SPEED: 63795.2 MB/s\n",
      "=== MULTIPLIER=52 | Buffer Size = 212992 bytes ===\n",
      "--- dd raw output ---\n",
      "16384+0 records in\n",
      "16384+0 records out\n",
      "3489660928 bytes (3.5 GB, 3.2 GiB) copied, 0.0676656 s, 51.6 GB/s\n",
      "✅ SPEED: 52838.4 MB/s\n",
      "=== MULTIPLIER=53 | Buffer Size = 217088 bytes ===\n",
      "--- dd raw output ---\n",
      "16384+0 records in\n",
      "16384+0 records out\n",
      "3556769792 bytes (3.6 GB, 3.3 GiB) copied, 0.058637 s, 60.7 GB/s\n",
      "✅ SPEED: 62156.8 MB/s\n",
      "=== MULTIPLIER=54 | Buffer Size = 221184 bytes ===\n",
      "--- dd raw output ---\n",
      "16384+0 records in\n",
      "16384+0 records out\n",
      "3623878656 bytes (3.6 GB, 3.4 GiB) copied, 0.0579831 s, 62.5 GB/s\n",
      "✅ SPEED: 64000.0 MB/s\n",
      "=== MULTIPLIER=55 | Buffer Size = 225280 bytes ===\n",
      "--- dd raw output ---\n",
      "16384+0 records in\n",
      "16384+0 records out\n",
      "3690987520 bytes (3.7 GB, 3.4 GiB) copied, 0.0599439 s, 61.6 GB/s\n",
      "✅ SPEED: 63078.4 MB/s\n",
      "=== MULTIPLIER=56 | Buffer Size = 229376 bytes ===\n",
      "--- dd raw output ---\n",
      "16384+0 records in\n",
      "16384+0 records out\n",
      "3758096384 bytes (3.8 GB, 3.5 GiB) copied, 0.0632218 s, 59.4 GB/s\n",
      "✅ SPEED: 60825.6 MB/s\n",
      "=== MULTIPLIER=57 | Buffer Size = 233472 bytes ===\n",
      "--- dd raw output ---\n",
      "16384+0 records in\n",
      "16384+0 records out\n",
      "3825205248 bytes (3.8 GB, 3.6 GiB) copied, 0.0629053 s, 60.8 GB/s\n",
      "✅ SPEED: 62259.2 MB/s\n",
      "=== MULTIPLIER=58 | Buffer Size = 237568 bytes ===\n",
      "--- dd raw output ---\n",
      "16384+0 records in\n",
      "16384+0 records out\n",
      "3892314112 bytes (3.9 GB, 3.6 GiB) copied, 0.0629039 s, 61.9 GB/s\n",
      "✅ SPEED: 63385.6 MB/s\n",
      "=== MULTIPLIER=59 | Buffer Size = 241664 bytes ===\n",
      "--- dd raw output ---\n",
      "16384+0 records in\n",
      "16384+0 records out\n",
      "3959422976 bytes (4.0 GB, 3.7 GiB) copied, 0.0701232 s, 56.5 GB/s\n",
      "✅ SPEED: 57856.0 MB/s\n",
      "=== MULTIPLIER=60 | Buffer Size = 245760 bytes ===\n",
      "--- dd raw output ---\n",
      "16384+0 records in\n",
      "16384+0 records out\n",
      "4026531840 bytes (4.0 GB, 3.8 GiB) copied, 0.0662608 s, 60.8 GB/s\n",
      "✅ SPEED: 62259.2 MB/s\n",
      "=== MULTIPLIER=61 | Buffer Size = 249856 bytes ===\n",
      "--- dd raw output ---\n",
      "16384+0 records in\n",
      "16384+0 records out\n",
      "4093640704 bytes (4.1 GB, 3.8 GiB) copied, 0.0694639 s, 58.9 GB/s\n",
      "✅ SPEED: 60313.6 MB/s\n",
      "=== MULTIPLIER=62 | Buffer Size = 253952 bytes ===\n",
      "--- dd raw output ---\n",
      "16384+0 records in\n",
      "16384+0 records out\n",
      "4160749568 bytes (4.2 GB, 3.9 GiB) copied, 0.0752278 s, 55.3 GB/s\n",
      "✅ SPEED: 56627.2 MB/s\n",
      "=== MULTIPLIER=63 | Buffer Size = 258048 bytes ===\n",
      "--- dd raw output ---\n",
      "16384+0 records in\n",
      "16384+0 records out\n",
      "4227858432 bytes (4.2 GB, 3.9 GiB) copied, 0.0788894 s, 53.6 GB/s\n",
      "✅ SPEED: 54886.4 MB/s\n",
      "=== MULTIPLIER=64 | Buffer Size = 262144 bytes ===\n",
      "--- dd raw output ---\n",
      "16384+0 records in\n",
      "16384+0 records out\n",
      "4294967296 bytes (4.3 GB, 4.0 GiB) copied, 0.076234 s, 56.3 GB/s\n",
      "✅ SPEED: 57651.2 MB/s\n"
     ]
    },
    {
     "name": "stderr",
     "output_type": "stream",
     "text": [
      "\u0000"
     ]
    }
   ],
   "source": [
    "%%bash\n",
    "# 创建 CSV 文件\n",
    "echo \"MULTIPLIER,SPEED_MBps\" > dd_speed_results.csv\n",
    "\n",
    "# 页大小\n",
    "PAGE_SIZE=$(getconf PAGE_SIZE)\n",
    "echo $PAGE_SIZE\n",
    "\n",
    "# MULTIPLIER 范围\n",
    "for MULT in {1..64}; do\n",
    "    BS=$((PAGE_SIZE * MULT))\n",
    "    echo \"=== MULTIPLIER=$MULT | Buffer Size = $BS bytes ===\"\n",
    "\n",
    "    # 执行 dd 命令\n",
    "    RESULT=$(dd if=/dev/zero of=/dev/null bs=$BS count=16384 2>&1)\n",
    "\n",
    "    echo \"--- dd raw output ---\"\n",
    "    echo \"$RESULT\"\n",
    "\n",
    "    # 提取最后一行\n",
    "    LAST_LINE=$(echo \"$RESULT\" | tail -n 1)\n",
    "\n",
    "    # 提取形如 \"28.3 GB/s\" 或 \"900 MB/s\" 的值\n",
    "    SPEED_STR=$(echo \"$LAST_LINE\" | grep -oE \"[0-9.]+ [GM]B/s\")\n",
    "\n",
    "    if [ -n \"$SPEED_STR\" ]; then\n",
    "        SPEED_VAL=$(echo \"$SPEED_STR\" | cut -d' ' -f1)\n",
    "        UNIT=$(echo \"$SPEED_STR\" | cut -d' ' -f2)\n",
    "\n",
    "        # 单位转换\n",
    "        if [ \"$UNIT\" = \"GB/s\" ]; then\n",
    "            SPEED_MB=$(echo \"$SPEED_VAL * 1024\" | bc -l)\n",
    "        else\n",
    "            SPEED_MB=\"$SPEED_VAL\"\n",
    "        fi\n",
    "\n",
    "        echo \"$MULT,$SPEED_MB\" >> dd_speed_results.csv\n",
    "        echo \"✅ SPEED: $SPEED_MB MB/s\"\n",
    "    else\n",
    "        echo \"$MULT,NA\" >> dd_speed_results.csv\n",
    "        echo \"⚠️ 无法提取速度\"\n",
    "    fi\n",
    "done\n"
   ]
  },
  {
   "cell_type": "code",
   "execution_count": 61,
   "id": "ab2b67c4",
   "metadata": {},
   "outputs": [
    {
     "data": {
      "image/png": "[encoded data removed]",
      "text/plain": [
       "<Figure size 1000x600 with 1 Axes>"
      ]
     },
     "metadata": {},
     "output_type": "display_data"
    }
   ],
   "source": [
    "import pandas as pd\n",
    "import matplotlib.pyplot as plt\n",
    "\n",
    "# 读取 CSV 结果文件\n",
    "df = pd.read_csv(\"dd_speed_results.csv\")\n",
    "df = df[df[\"SPEED_MBps\"] != \"NA\"]\n",
    "df[\"SPEED_MBps\"] = df[\"SPEED_MBps\"].astype(float)\n",
    "\n",
    "# 绘图\n",
    "plt.figure(figsize=(10, 6))\n",
    "plt.plot(df[\"MULTIPLIER\"], df[\"SPEED_MBps\"], marker='o', color='teal')\n",
    "plt.xlabel(\"MULTIPLIER\")\n",
    "plt.ylabel(\"Speed(MB/s)\")\n",
    "plt.grid(True)\n",
    "plt.xticks(df[\"MULTIPLIER\"])\n",
    "plt.tight_layout()\n",
    "plt.show()\n"
   ]
  },
  {
   "cell_type": "code",
   "execution_count": 58,
   "id": "fefb5fdb",
   "metadata": {},
   "outputs": [
    {
     "name": "stderr",
     "output_type": "stream",
     "text": [
      "\u0000/e\u0001c \u0000l\u0000o\u0000c\u0000a\u0000l\u0000h\u0000o\u0000s\u0000t\u0000 \u0000�N\u0006t\u00020\u0000t\u0000 \u0000�N\u0006tM�n\f�FO*g\\��P0R \u0000W\u0000S\u0000L\u0000\u00020N\u0000A\u0000T\u0000 \u0000!j\u000f_\u000bN�v \u0000W\u0000S\u0000L\u0000 \u0000\n"
     ]
    },
    {
     "name": "stdout",
     "output_type": "stream",
     "text": [
      "Benchmark 1: ./target/mycat5 test.txt\n",
      "  Time (mean ± σ):     201.6 ms ±  14.8 ms    [User: 4.3 ms, System: 196.6 ms]\n",
      "  Range (min … max):   184.2 ms … 228.6 ms    13 runs\n",
      " \n"
     ]
    },
    {
     "name": "stderr",
     "output_type": "stream",
     "text": [
      "\u0000"
     ]
    }
   ],
   "source": [
    "%%bash\n",
    "\n",
    "hyperfine --warmup 3 './target/mycat5 test.txt'"
   ]
  },
  {
   "cell_type": "markdown",
   "id": "54bef4af",
   "metadata": {},
   "source": [
    "## 任务6: 使用了系统调用`fdadvice`的cat\n",
    "\n",
    "虽然几乎我们的这个lab都在讨论设置缓冲区大小的问题，但是实际上我们的系统中的`cat`还在其他很多方面做了不少优化。这些优化在多数时候和缓冲区相比都不起决定性作用，但是我们也可以从中学习到不少有趣的技巧。这里我们就只尝试其中一个，使用系统调用`fadvise`。这个系统调用可以提示文件系统我们将会以什么样的模式来读写文件，这样操作系统可以设置合适的readahead窗口为文件的读写做准备。在这个任务中，你需要完成以下要求：\n",
    "1. 复制你上一个任务的源代码在上面做修改，并把源代码命名为`mycat6.c`/`mycat6.rs`，可执行二进制文件命名为`mycat6`。\n",
    "2. 在你的代码中使用`fadvise`进行优化。\n",
    "3. 使用`hyperfine`测量`mycat6`的运行时间。\n",
    "4. 保持系统编程的基本规范。\n",
    "\n",
    "这个任务，你需要在文档中回答以下问题：\n",
    "1. 你是如何设置`fadvise`的参数的？\n",
    "2. 对于顺序读写的情况，文件系统可以如何调整readahead？对于随机读写的情况呢？"
   ]
  },
  {
   "cell_type": "code",
   "execution_count": 59,
   "id": "3aad1e29",
   "metadata": {},
   "outputs": [
    {
     "name": "stderr",
     "output_type": "stream",
     "text": [
      "\u0000/e\u0001c \u0000l\u0000o\u0000c\u0000a\u0000l\u0000h\u0000o\u0000s\u0000t\u0000 \u0000�N\u0006t\u00020\u0000t\u0000 \u0000�N\u0006tM�n\f�FO*g\\��P0R \u0000W\u0000S\u0000L\u0000\u00020N\u0000A\u0000T\u0000 \u0000!j\u000f_\u000bN�v \u0000W\u0000S\u0000L\u0000 \u0000\n"
     ]
    },
    {
     "name": "stdout",
     "output_type": "stream",
     "text": [
      "Benchmark 1: ./target/mycat6 test.txt\n",
      "  Time (mean ± σ):     194.7 ms ±   5.8 ms    [User: 5.4 ms, System: 188.5 ms]\n",
      "  Range (min … max):   188.0 ms … 207.2 ms    14 runs\n",
      " \n"
     ]
    },
    {
     "name": "stderr",
     "output_type": "stream",
     "text": [
      "\u0000"
     ]
    }
   ],
   "source": [
    "%%bash\n",
    "hyperfine --warmup 3 './target/mycat6 test.txt'"
   ]
  },
  {
   "cell_type": "markdown",
   "id": "c7896299",
   "metadata": {},
   "source": [
    "1. `posix_fadvise(fd, 0, 0, POSIX_FADV_SEQUENTIAL);` ,fd: 打开的文件描述符；0, 0: 表示从文件开头开始，长度为0表示“整个文件”；POSIX_FADV_SEQUENTIAL: 顺序读取文件\n",
    "\n",
    "2. 顺序读写：文件系统启动readahead，提前读取多个连续快，在后台填充缓存，减少下一次read的等待时间；随机读写：此时readahead无效，文件系统不启用readahead策略\n"
   ]
  },
  {
   "cell_type": "markdown",
   "id": "2c605486",
   "metadata": {},
   "source": [
    "## 任务7: 总结\n",
    "\n",
    "经过了上面的所有任务，我们已经成功探索我们系统中最常用的工具`cat`所使用的各种优化。我相信你对涉及系统IO的编程也有了更深刻的理解。现在请你整理汇总上面每个任务你所写的`mycatx`以及系统的`cat`的测量数据，使用一个柱状图来展示。并且请你分析一下你得到的结果：它们符合你的预期吗？为什么？这个结果给你带来了什么启示？\n",
    "\n",
    "这个任务，你需要在文档中包含以下内容：\n",
    "1. 你的全部实验结果的柱状图。\n",
    "2. 你对上述实验结果的分析。"
   ]
  },
  {
   "cell_type": "code",
   "execution_count": 60,
   "id": "4e293a45",
   "metadata": {},
   "outputs": [
    {
     "data": {
      "image/png": "[encoded data removed]",
      "text/plain": [
       "<Figure size 800x600 with 1 Axes>"
      ]
     },
     "metadata": {},
     "output_type": "display_data"
    }
   ],
   "source": [
    "# 这里填入你用于画图的python代码\n",
    "\n",
    "import matplotlib.pyplot as plt\n",
    "import numpy as np\n",
    "\n",
    "# 数据准备\n",
    "categories = ['cat0','mycat1', 'mycat2', 'mycat3', 'mycat4','mycat5','mycat6']\n",
    "values = [218.9,564832,348,346.1,327.2,201,194]\n",
    "\n",
    "# 创建图表\n",
    "plt.figure(figsize=(8, 6))\n",
    "\n",
    "# 绘制柱状图\n",
    "bars = plt.bar(categories, values, color='skyblue', edgecolor='black', width=0.6)\n",
    "\n",
    "# 添加数值标签\n",
    "for bar in bars:\n",
    "    height = bar.get_height()\n",
    "    plt.text(bar.get_x() + bar.get_width()/2., height,\n",
    "             f'{height}',\n",
    "             ha='center', va='bottom')\n",
    "\n",
    "# 添加标题和标签\n",
    "plt.xlabel('Tasks', fontsize=12)\n",
    "plt.ylabel('Times', fontsize=12)\n",
    "\n",
    "# 网格线\n",
    "plt.grid(axis='y', linestyle='--', alpha=0.7)\n",
    "\n",
    "plt.show()\n"
   ]
  },
  {
   "cell_type": "markdown",
   "id": "2a2a8a12",
   "metadata": {},
   "source": [
    "分析：朴素实现cat的方法由于反复的系统调用导致性能非常差，于是使用了添加缓冲区的方式来降低系统调用的次数，提高性能；接下来对于缓冲区的大小进行调整，根据I/O的特性我们选择与文件系统块大小对齐的缓冲区大小；在这一点的基础上我们尝试调整缓冲区的大小为文件系统块大小的倍数，经过尝试，发现倍数为11时效果最好，这个时候实现的mycat的性能优于系统提供的cat的性能。任务6中使用系统调用`fadvise`，利用文件在顺序读的情况下启用readahead提前加载连续的文件块来提高性能，但实验发现效果并不突出。"
   ]
  }
 ],
 "metadata": {
  "kernelspec": {
   "display_name": "base",
   "language": "python",
   "name": "python3"
  },
  "language_info": {
   "codemirror_mode": {
    "name": "ipython",
    "version": 3
   },
   "file_extension": ".py",
   "mimetype": "text/x-python",
   "name": "python",
   "nbconvert_exporter": "python",
   "pygments_lexer": "ipython3",
   "version": "3.12.4"
  }
 },
 "nbformat": 4,
 "nbformat_minor": 5
}
